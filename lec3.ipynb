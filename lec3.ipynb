{
 "cells": [
  {
   "cell_type": "code",
   "execution_count": 5,
   "metadata": {},
   "outputs": [
    {
     "name": "stdout",
     "output_type": "stream",
     "text": [
      "[60, 70, 80, 85, 90]\n"
     ]
    }
   ],
   "source": [
    "scores = [50, 60, 70, 80, 90]\n",
    "scores.append(85)\n",
    "del(scores[0])\n",
    "scores.sort()\n",
    "print(scores)"
   ]
  },
  {
   "cell_type": "code",
   "execution_count": 6,
   "metadata": {},
   "outputs": [
    {
     "name": "stdout",
     "output_type": "stream",
     "text": [
      "성적 평균은 55.0입니다.\n"
     ]
    }
   ],
   "source": [
    "score_1 = input(\"성적을 입력하세요: \")\n",
    "score_2 = input(\"성적을 입력하세요: \")\n",
    "score_3 = input(\"성적을 입력하세요: \")\n",
    "score_4 = input(\"성적을 입력하세요: \")\n",
    "score_5 = input(\"성적을 입력하세요: \")\n",
    "scores = [int(score_1),int(score_2),int(score_3),int(score_4),int(score_5)]\n",
    "answer = sum(scores)/len(scores)\n",
    "print(f\"성적 평균은 {answer}입니다.\")"
   ]
  }
 ],
 "metadata": {
  "kernelspec": {
   "display_name": "Python 3",
   "language": "python",
   "name": "python3"
  },
  "language_info": {
   "codemirror_mode": {
    "name": "ipython",
    "version": 3
   },
   "file_extension": ".py",
   "mimetype": "text/x-python",
   "name": "python",
   "nbconvert_exporter": "python",
   "pygments_lexer": "ipython3",
   "version": "3.13.2"
  }
 },
 "nbformat": 4,
 "nbformat_minor": 2
}
