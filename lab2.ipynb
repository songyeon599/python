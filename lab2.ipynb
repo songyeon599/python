{
 "cells": [
  {
   "cell_type": "code",
   "execution_count": 4,
   "metadata": {},
   "outputs": [
    {
     "name": "stdout",
     "output_type": "stream",
     "text": [
      "원 둘레: 860.36 원 넓이: 58934.66\n"
     ]
    }
   ],
   "source": [
    "r = int(input(\"반지름을 입력하시오: \"))\n",
    "pi = 3.14\n",
    "둘레 = 2 * pi * r\n",
    "넓이 = pi * (r ** 2)\n",
    "print(\"원 둘레:\", 둘레, \"원 넓이:\", 넓이)"
   ]
  },
  {
   "cell_type": "code",
   "execution_count": 5,
   "metadata": {},
   "outputs": [
    {
     "name": "stdout",
     "output_type": "stream",
     "text": [
      "500원짜리: 4 100원짜리: 3\n"
     ]
    }
   ],
   "source": [
    "투입한돈 = int(input(\"투입한 돈을 입력하시오: \"))\n",
    "물건값 = int(input(\"물건 값을 입력하시오: \"))\n",
    "거스름돈 = 투입한돈-물건값\n",
    "_500원 = 거스름돈//500\n",
    "_100원 = 거스름돈%500//100\n",
    "print(\"500원짜리:\", _500원, \"100원짜리:\", _100원)\n"
   ]
  },
  {
   "cell_type": "code",
   "execution_count": null,
   "metadata": {},
   "outputs": [],
   "source": [
    "# split 사용하기 (ppt 참고)\n",
    "# 리스트 인덱싱 사용하기 예) list1 = [1,2,3]      print(list1[0]) ----> 1"
   ]
  },
  {
   "cell_type": "code",
   "execution_count": null,
   "metadata": {},
   "outputs": [
    {
     "name": "stdout",
     "output_type": "stream",
     "text": [
      "2023/9/15\n"
     ]
    }
   ],
   "source": [
    "날짜 = input(\"날짜를 입력하시오: \")\n",
    "print(날짜)\n"
   ]
  },
  {
   "cell_type": "code",
   "execution_count": 4,
   "metadata": {},
   "outputs": [
    {
     "name": "stdout",
     "output_type": "stream",
     "text": [
      "['python', 'is', 'fun']\n"
     ]
    }
   ],
   "source": [
    "text = \"python is fun\"\n",
    "text = text.split()\n",
    "print(text)\n"
   ]
  },
  {
   "cell_type": "code",
   "execution_count": 8,
   "metadata": {},
   "outputs": [
    {
     "name": "stdout",
     "output_type": "stream",
     "text": [
      "['apple', 'banana', 'grape', 'orange']\n"
     ]
    }
   ],
   "source": [
    "text = \"apple,banana,grape,orange\"\n",
    "text = text.split(\",\")\n",
    "print(text)"
   ]
  },
  {
   "cell_type": "code",
   "execution_count": 9,
   "metadata": {},
   "outputs": [
    {
     "name": "stdout",
     "output_type": "stream",
     "text": [
      "1\n"
     ]
    }
   ],
   "source": [
    "listt = input(\"단어를 입력하시오: \")\n",
    "listt = listt.split()\n",
    "print(len(listt))"
   ]
  }
 ],
 "metadata": {
  "kernelspec": {
   "display_name": "Python 3",
   "language": "python",
   "name": "python3"
  },
  "language_info": {
   "codemirror_mode": {
    "name": "ipython",
    "version": 3
   },
   "file_extension": ".py",
   "mimetype": "text/x-python",
   "name": "python",
   "nbconvert_exporter": "python",
   "pygments_lexer": "ipython3",
   "version": "3.13.2"
  }
 },
 "nbformat": 4,
 "nbformat_minor": 2
}
